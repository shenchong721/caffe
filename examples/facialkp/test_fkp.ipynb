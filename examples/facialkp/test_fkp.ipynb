{
 "cells": [
  {
   "cell_type": "code",
   "execution_count": 1,
   "metadata": {
    "collapsed": true
   },
   "outputs": [],
   "source": [
    "import numpy as np\n",
    "import pandas as pd\n",
    "from numpy import genfromtxt\n",
    "from numpy import ravel\n",
    "import pylab as pl\n",
    "from skimage import transform\n",
    "import h5py\n",
    "from sklearn import cross_validation\n",
    "import uuid\n",
    "import random\n",
    "from skimage import io, exposure, img_as_uint, img_as_float\n",
    "from numpy import (array, dot, arccos)\n",
    "from numpy.linalg import norm"
   ]
  },
  {
   "cell_type": "code",
   "execution_count": 3,
   "metadata": {
    "collapsed": true
   },
   "outputs": [],
   "source": [
    "#求两个点对距离\n",
    "def dist(x,y):   \n",
    "    return np.sqrt(np.sum((x-y)**2))"
   ]
  },
  {
   "cell_type": "code",
   "execution_count": 4,
   "metadata": {
    "collapsed": true
   },
   "outputs": [],
   "source": [
    "#将图像直方图均衡化\n",
    "def image_histogram_equalization(image, number_bins=256):\n",
    "    # from http://www.janeriksolem.net/2009/06/histogram-equalization-with-python-and.html\n",
    "\n",
    "    # get image histogram\n",
    "    image_histogram, bins = np.histogram(image.flatten(), number_bins, normed=True)\n",
    "    cdf = image_histogram.cumsum() # cumulative distribution function\n",
    "    cdf = 255 * cdf / cdf[-1] # normalize\n",
    "\n",
    "    # use linear interpolation of cdf to find new pixel values\n",
    "    image_equalized = np.interp(image.flatten(), bins[:-1], cdf)\n",
    "\n",
    "    return image_equalized.reshape(image.shape), cdf"
   ]
  },
  {
   "cell_type": "code",
   "execution_count": 82,
   "metadata": {
    "collapsed": true
   },
   "outputs": [],
   "source": [
    "#读入training及test数据，第一行为header\n",
    "df = pd.read_csv('data/training.csv',header=0)        #(7049, 31)\n",
    "dfp = pd.read_csv('data/test.csv',header=0)           #(1783, 2)"
   ]
  },
  {
   "cell_type": "markdown",
   "metadata": {},
   "source": [
    "数据：共7049张图片，96×96\n",
    "标签：15组（x,y）\n",
    "df前面30维为15组(x,y)坐标，第31维为图像，大小为32691="
   ]
  },
  {
   "cell_type": "code",
   "execution_count": 66,
   "metadata": {
    "collapsed": true
   },
   "outputs": [],
   "source": [
    "df = df.dropna()  #删除含有nan的所有行  (2140,30)\n",
    "y = df.drop(['Image'], axis=1)  #(2140,30) 删除图像所在列，留下标签"
   ]
  },
  {
   "cell_type": "code",
   "execution_count": 67,
   "metadata": {
    "collapsed": false
   },
   "outputs": [],
   "source": [
    "y = y.values \n",
    "y = y.astype(np.float32) \n",
    "y = y.reshape((-1,30))      #将标签转换为(2140,30)的二位数组"
   ]
  },
  {
   "cell_type": "code",
   "execution_count": 68,
   "metadata": {
    "collapsed": false
   },
   "outputs": [],
   "source": [
    "y_features = np.zeros([len(y),15], np.float32)     #(2140,15)"
   ]
  },
  {
   "cell_type": "code",
   "execution_count": 69,
   "metadata": {
    "collapsed": false
   },
   "outputs": [],
   "source": [
    "for k in xrange(len(y)):\n",
    " mouth_right_x = y[k,24]\n",
    " mouth_right_y = y[k,25]\n",
    " mouth_left_x =  y[k,22]\n",
    " mouth_left_y = y[k,23]\n",
    " mouth_top_x =  y[k,26]\n",
    " mouth_top_y =  y[k,27]\n",
    " mouth_bottom_x = y[k,28]\n",
    " mouth_bottom_y = y[k,29]\n",
    " \n",
    " left_eye_brow_left_x = y[k,14]\n",
    " left_eye_brow_left_y = y[k,15]\n",
    " left_eye_brow_right_x = y[k,12]\n",
    " left_eye_brow_right_y = y[k,13]\n",
    " \n",
    " right_eye_brow_left_x = y[k,16]\n",
    " right_eye_brow_left_y = y[k,17]\n",
    " right_eye_brow_right_x = y[k,18]\n",
    " right_eye_brow_right_y = y[k,19]\n",
    " \n",
    " left_eye_x = y[k,2]\n",
    " left_eye_y = y[k,3]\n",
    " right_eye_x = y[k,0]\n",
    " right_eye_y = y[k,1]\n",
    "\n",
    " nose_center_x = y[k,20]\n",
    " nose_center_y = y[k,21]\n",
    "\n",
    " left_eye_right_corner_x = y[k,4]\n",
    " left_eye_right_corner_y = y[k,5]\n",
    " left_eye_left_corner_x =  y[k,6]\n",
    " left_eye_left_corner_y =  y[k,7]\n",
    "\n",
    " right_eye_right_corner_x = y[k,10]\n",
    " right_eye_right_corner_y = y[k,11]\n",
    " right_eye_left_corner_x =  y[k,8]\n",
    " right_eye_left_corner_y =  y[k,9]\n",
    "\n",
    " \n",
    " nose_center = np.array([nose_center_x,nose_center_y],np.float32)\n",
    " \n",
    " left_eye = np.array([left_eye_x, left_eye_y], np.float32)\n",
    " right_eye = np.array([right_eye_x, right_eye_y], np.float32)\n",
    " \n",
    " mouth_left = np.array([mouth_left_x, mouth_left_y], np.float32)\n",
    " mouth_right = np.array([mouth_right_x, mouth_right_y], np.float32)\n",
    " mouth_top  = np.array([mouth_top_x,mouth_top_y],np.float32)\n",
    " mouth_bottom = np.array([mouth_bottom_x, mouth_bottom_y],np.float32)\n",
    "\n",
    " left_eye_right_corner = np.array([left_eye_right_corner_x,left_eye_right_corner_y])\n",
    " left_eye_left_corner = np.array([left_eye_left_corner_x,left_eye_left_corner_y])\n",
    " right_eye_right_corner = np.array([right_eye_right_corner_x,right_eye_right_corner_y]) \n",
    " right_eye_left_corner = np.array([right_eye_left_corner_x,right_eye_left_corner_y])\n",
    "\n",
    " left_eye_brow_left = np.array([left_eye_brow_left_x,left_eye_brow_left_y],np.float32)\n",
    " left_eye_brow_right = np.array([left_eye_brow_right_x,left_eye_brow_right_y],np.float32)\n",
    " right_eye_brow_left = np.array([right_eye_brow_left_x,right_eye_brow_left_y],np.float32)\n",
    " right_eye_brow_right = np.array([right_eye_brow_right_x,right_eye_brow_right_y],np.float32)\n",
    "\n",
    "\n",
    " y_features[k,0] = dist(left_eye,right_eye)\n",
    " y_features[k,1] = dist(nose_center,left_eye)\n",
    " y_features[k,2] = dist(nose_center,right_eye)\n",
    " y_features[k,3] = dist(nose_center,mouth_left)\n",
    " y_features[k,4] = dist(nose_center,mouth_right) \n",
    " y_features[k,5] = dist(nose_center, mouth_top)\n",
    " y_features[k,6] = dist(left_eye,left_eye_left_corner)\n",
    " y_features[k,7] = dist(left_eye, left_eye_right_corner)\n",
    " y_features[k,8] = dist(right_eye,right_eye_left_corner)\n",
    " y_features[k,9] = dist(right_eye,right_eye_right_corner)\n",
    " y_features[k,10] = dist(left_eye_left_corner, left_eye_brow_left)\n",
    " y_features[k,11] = dist(left_eye_right_corner, left_eye_brow_right)\n",
    " y_features[k,12] = dist(right_eye_left_corner, right_eye_brow_left)\n",
    " y_features[k,13] = dist(right_eye_right_corner, right_eye_brow_right)\n",
    " y_features[k,14] = dist(mouth_top, mouth_bottom)\n"
   ]
  },
  {
   "cell_type": "code",
   "execution_count": 70,
   "metadata": {
    "collapsed": false
   },
   "outputs": [
    {
     "name": "stdout",
     "output_type": "stream",
     "text": [
      "Distance Features (2140, 15)\n",
      "[[ 35.89942932  25.05351257  28.16822052 ...,   9.23731709  10.5022707\n",
      "   11.55174732]\n",
      " [ 34.41730499  28.75241852  26.23318672 ...,  10.59743214   9.74182034\n",
      "   15.26218891]\n",
      " [ 34.15326309  24.98778343  25.55961037 ...,   9.34853077   9.3484621\n",
      "    8.4675827 ]\n",
      " ..., \n",
      " [ 39.54855728  35.4339447   28.90300179 ...,   9.86591244  11.3681488\n",
      "   10.69087887]\n",
      " [ 38.51984024  33.00073242  30.7424221  ...,   7.70108414   7.82850409\n",
      "    1.19751394]\n",
      " [ 36.13212204  28.21927071  29.89253616 ...,   6.23269033   8.46032333\n",
      "    6.82706976]]\n"
     ]
    }
   ],
   "source": [
    "print 'Distance Features', y_features.shape\n",
    "print y_features.reshape(-1,15)"
   ]
  },
  {
   "cell_type": "code",
   "execution_count": 71,
   "metadata": {
    "collapsed": true
   },
   "outputs": [],
   "source": [
    "y = y / 96"
   ]
  },
  {
   "cell_type": "code",
   "execution_count": 72,
   "metadata": {
    "collapsed": false
   },
   "outputs": [
    {
     "name": "stdout",
     "output_type": "stream",
     "text": [
      "Y shape (2140, 30)\n"
     ]
    }
   ],
   "source": [
    "print 'Y shape', y.shape"
   ]
  },
  {
   "cell_type": "code",
   "execution_count": 83,
   "metadata": {
    "collapsed": true
   },
   "outputs": [],
   "source": [
    "df['Image'] = df['Image'].apply(lambda im: np.fromstring(im, sep=' ') )\n",
    "X = np.vstack (df['Image'].values) "
   ]
  },
  {
   "cell_type": "code",
   "execution_count": 84,
   "metadata": {
    "collapsed": false
   },
   "outputs": [],
   "source": [
    "X = X.reshape(-1,96,96)   #(7049,96,96) 图像数据"
   ]
  },
  {
   "cell_type": "code",
   "execution_count": 86,
   "metadata": {
    "collapsed": false
   },
   "outputs": [],
   "source": [
    "# Histogram equalization\n",
    "for i in range(len(X)):\n",
    "       X[i, :, :] = image_histogram_equalization(X[i, :,:])[0]"
   ]
  },
  {
   "cell_type": "code",
   "execution_count": 87,
   "metadata": {
    "collapsed": true
   },
   "outputs": [],
   "source": [
    "X = X.astype(np.float32)\n",
    "X = X/255      #归一化\n",
    "X = X.reshape(-1,1,96,96)     #（7049，1，96，96）"
   ]
  },
  {
   "cell_type": "code",
   "execution_count": 89,
   "metadata": {
    "collapsed": false
   },
   "outputs": [
    {
     "name": "stdout",
     "output_type": "stream",
     "text": [
      "Shape Labels (7049, 1, 96, 96) (2140, 30)\n"
     ]
    }
   ],
   "source": [
    "print 'Shape', 'Labels', X.shape, y.shape"
   ]
  },
  {
   "cell_type": "code",
   "execution_count": 90,
   "metadata": {
    "collapsed": true
   },
   "outputs": [],
   "source": [
    "X_train = X[:1600]     #(1600, 1, 96, 96)\n",
    "y_train = y[:1600]     #(1600, 30)\n",
    "X_test = X[1600:]      #(5449, 1, 96, 96)\n",
    "y_test = y[1600:]      #(540, 30)"
   ]
  },
  {
   "cell_type": "code",
   "execution_count": 92,
   "metadata": {
    "collapsed": false
   },
   "outputs": [
    {
     "name": "stdout",
     "output_type": "stream",
     "text": [
      "Train, Test shapes (X,y): (1600, 1, 96, 96) (1600, 30) (5449, 1, 96, 96) (540, 30)\n"
     ]
    }
   ],
   "source": [
    "print 'Train, Test shapes (X,y):', X_train.shape, y_train.shape, X_test.shape, y_test.shape"
   ]
  },
  {
   "cell_type": "code",
   "execution_count": 93,
   "metadata": {
    "collapsed": true
   },
   "outputs": [],
   "source": [
    "# Train data\n",
    "f = h5py.File(\"facialkp-train.hd5\", \"w\")\n",
    "f.create_dataset(\"data\", data=X_train,  compression=\"gzip\", compression_opts=4)\n",
    "f.create_dataset(\"label\", data=y_train,  compression=\"gzip\", compression_opts=4)\n",
    "f.close()"
   ]
  },
  {
   "cell_type": "code",
   "execution_count": 94,
   "metadata": {
    "collapsed": true
   },
   "outputs": [],
   "source": [
    "#Test data\n",
    "f = h5py.File(\"facialkp-test.hd5\", \"w\")\n",
    "f.create_dataset(\"data\", data=X_test,  compression=\"gzip\", compression_opts=4)\n",
    "f.create_dataset(\"label\", data=y_test,  compression=\"gzip\", compression_opts=4)\n",
    "f.close()"
   ]
  },
  {
   "cell_type": "code",
   "execution_count": null,
   "metadata": {
    "collapsed": true
   },
   "outputs": [],
   "source": []
  }
 ],
 "metadata": {
  "kernelspec": {
   "display_name": "Python 2",
   "language": "python",
   "name": "python2"
  },
  "language_info": {
   "codemirror_mode": {
    "name": "ipython",
    "version": 2
   },
   "file_extension": ".py",
   "mimetype": "text/x-python",
   "name": "python",
   "nbconvert_exporter": "python",
   "pygments_lexer": "ipython2",
   "version": "2.7.11"
  }
 },
 "nbformat": 4,
 "nbformat_minor": 0
}
